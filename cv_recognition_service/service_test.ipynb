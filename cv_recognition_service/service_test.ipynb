{
 "cells": [
  {
   "cell_type": "code",
   "execution_count": 1,
   "id": "00288ecd",
   "metadata": {},
   "outputs": [],
   "source": [
    "import numpy as np\n",
    "import cv2\n",
    "import matplotlib.pyplot as plt\n",
    "from tqdm import trange\n",
    "\n",
    "# %matplotlib_inline\n",
    "import matplotlib.pyplot as plt\n",
    "\n",
    "def plot(src, cmap=None, title=None, size=(10, 10)):\n",
    "    %matplotlib inline\n",
    "    plt.rcParams['figure.figsize'] = size\n",
    "    plt.imshow(src, cmap)\n",
    "    plt.title(title)"
   ]
  },
  {
   "cell_type": "code",
   "execution_count": 2,
   "id": "736ddf3d",
   "metadata": {},
   "outputs": [],
   "source": [
    "from infrastructure.interface import DetectionData, ClassificationData\n",
    "from service.interface import FrameData\n",
    "\n",
    "from infrastructure.detection import DummyDetector\n",
    "from infrastructure.classification import DummyClassifier\n",
    "\n",
    "from service.emotion_service import DummyEmotionService"
   ]
  },
  {
   "cell_type": "markdown",
   "id": "ba9843ac",
   "metadata": {},
   "source": [
    "### Init models"
   ]
  },
  {
   "cell_type": "code",
   "execution_count": 3,
   "id": "0cd8e268",
   "metadata": {},
   "outputs": [],
   "source": [
    "# detector = DummyDetector(model_path='None', conf_thresh=0.9)\n",
    "# classifier = DummyClassifier(model_path='None', conf_thresh=0.9)\n",
    "\n",
    "# service = DummyEmotionService(detector, classifier)"
   ]
  },
  {
   "cell_type": "code",
   "execution_count": 4,
   "id": "f27af7d9",
   "metadata": {},
   "outputs": [],
   "source": [
    "from infrastructure.detection import RetinaTorchDetector\n",
    "\n",
    "from infrastructure.classification import DanClassifier\n",
    "\n",
    "detector = RetinaTorchDetector(model_path='infrastructure/retina_torch/config.json', conf_thresh=0.9)\n",
    "classifier = DanClassifier(model_path='models/affecnet7_epoch6_acc0.6569.pth')\n",
    "# classifier = DummyClassifier(model_path='None', conf_thresh=0.9)\n",
    "\n",
    "service = DummyEmotionService(detector, classifier)"
   ]
  },
  {
   "cell_type": "code",
   "execution_count": 5,
   "id": "59457925",
   "metadata": {},
   "outputs": [
    {
     "name": "stderr",
     "output_type": "stream",
     "text": [
      "OpenCV: FFMPEG: tag 0x47504a4d/'MJPG' is not supported with codec id 7 and format 'mp4 / MP4 (MPEG-4 Part 14)'\n",
      "OpenCV: FFMPEG: fallback to use tag 0x7634706d/'mp4v'\n",
      "  0%|▍                                                                                                                            | 2/511 [00:01<05:54,  1.44it/s]"
     ]
    },
    {
     "name": "stdout",
     "output_type": "stream",
     "text": [
      "[ClassificationData(emotions=[Emotion(class_name='neutral', class_id=0, score=0.17609521746635437), Emotion(class_name='happy', class_id=1, score=0.6208105087280273), Emotion(class_name='sad', class_id=2, score=0.01924137771129608), Emotion(class_name='surprise', class_id=3, score=0.027975523844361305), Emotion(class_name='fear', class_id=4, score=0.023035505786538124), Emotion(class_name='disgust', class_id=5, score=0.07003764063119888), Emotion(class_name='anger', class_id=6, score=0.06280427426099777)]),\n",
      " ClassificationData(emotions=[Emotion(class_name='neutral', class_id=0, score=0.6233864426612854), Emotion(class_name='happy', class_id=1, score=0.03396940603852272), Emotion(class_name='sad', class_id=2, score=0.1412055790424347), Emotion(class_name='surprise', class_id=3, score=0.013666689395904541), Emotion(class_name='fear', class_id=4, score=0.02199266105890274), Emotion(class_name='disgust', class_id=5, score=0.023129478096961975), Emotion(class_name='anger', class_id=6, score=0.14264966547489166)]),\n",
      " ClassificationData(emotions=[Emotion(class_name='neutral', class_id=0, score=0.011528205126523972), Emotion(class_name='happy', class_id=1, score=0.9100989699363708), Emotion(class_name='sad', class_id=2, score=0.014362072572112083), Emotion(class_name='surprise', class_id=3, score=0.011680971831083298), Emotion(class_name='fear', class_id=4, score=0.01340827438980341), Emotion(class_name='disgust', class_id=5, score=0.02126186341047287), Emotion(class_name='anger', class_id=6, score=0.017659636214375496)]),\n",
      " ClassificationData(emotions=[Emotion(class_name='neutral', class_id=0, score=0.6791585683822632), Emotion(class_name='happy', class_id=1, score=0.061207544058561325), Emotion(class_name='sad', class_id=2, score=0.1084117740392685), Emotion(class_name='surprise', class_id=3, score=0.06417784839868546), Emotion(class_name='fear', class_id=4, score=0.052408792078495026), Emotion(class_name='disgust', class_id=5, score=0.008665280416607857), Emotion(class_name='anger', class_id=6, score=0.025970183312892914)]),\n",
      " ClassificationData(emotions=[Emotion(class_name='neutral', class_id=0, score=0.6392037272453308), Emotion(class_name='happy', class_id=1, score=0.026955898851156235), Emotion(class_name='sad', class_id=2, score=0.10152032971382141), Emotion(class_name='surprise', class_id=3, score=0.09476704150438309), Emotion(class_name='fear', class_id=4, score=0.04029439389705658), Emotion(class_name='disgust', class_id=5, score=0.02921455353498459), Emotion(class_name='anger', class_id=6, score=0.06804404407739639)])]\n",
      "[ClassificationData(emotions=[Emotion(class_name='neutral', class_id=0, score=0.1898399293422699), Emotion(class_name='happy', class_id=1, score=0.6062708497047424), Emotion(class_name='sad', class_id=2, score=0.019546234980225563), Emotion(class_name='surprise', class_id=3, score=0.025691185146570206), Emotion(class_name='fear', class_id=4, score=0.024541586637496948), Emotion(class_name='disgust', class_id=5, score=0.053495775908231735), Emotion(class_name='anger', class_id=6, score=0.08061440289020538)]),\n",
      " ClassificationData(emotions=[Emotion(class_name='neutral', class_id=0, score=0.617913544178009), Emotion(class_name='happy', class_id=1, score=0.034621305763721466), Emotion(class_name='sad', class_id=2, score=0.15507939457893372), Emotion(class_name='surprise', class_id=3, score=0.015248436480760574), Emotion(class_name='fear', class_id=4, score=0.022847747430205345), Emotion(class_name='disgust', class_id=5, score=0.024517245590686798), Emotion(class_name='anger', class_id=6, score=0.1297723352909088)]),\n",
      " ClassificationData(emotions=[Emotion(class_name='neutral', class_id=0, score=0.011352243833243847), Emotion(class_name='happy', class_id=1, score=0.9112567901611328), Emotion(class_name='sad', class_id=2, score=0.013906141743063927), Emotion(class_name='surprise', class_id=3, score=0.011683774180710316), Emotion(class_name='fear', class_id=4, score=0.012491577304899693), Emotion(class_name='disgust', class_id=5, score=0.021640829741954803), Emotion(class_name='anger', class_id=6, score=0.017668727785348892)]),\n",
      " ClassificationData(emotions=[Emotion(class_name='neutral', class_id=0, score=0.6744638681411743), Emotion(class_name='happy', class_id=1, score=0.0654398649930954), Emotion(class_name='sad', class_id=2, score=0.0876593068242073), Emotion(class_name='surprise', class_id=3, score=0.07563874870538712), Emotion(class_name='fear', class_id=4, score=0.06021296977996826), Emotion(class_name='disgust', class_id=5, score=0.009282045066356659), Emotion(class_name='anger', class_id=6, score=0.027303194627165794)]),\n",
      " ClassificationData(emotions=[Emotion(class_name='neutral', class_id=0, score=0.6684166193008423), Emotion(class_name='happy', class_id=1, score=0.028411470353603363), Emotion(class_name='sad', class_id=2, score=0.09416993707418442), Emotion(class_name='surprise', class_id=3, score=0.08828355371952057), Emotion(class_name='fear', class_id=4, score=0.03855929523706436), Emotion(class_name='disgust', class_id=5, score=0.025059504434466362), Emotion(class_name='anger', class_id=6, score=0.0570996031165123)])]\n"
     ]
    },
    {
     "name": "stderr",
     "output_type": "stream",
     "text": [
      "  1%|▉                                                                                                                            | 4/511 [00:01<02:45,  3.06it/s]"
     ]
    },
    {
     "name": "stdout",
     "output_type": "stream",
     "text": [
      "[ClassificationData(emotions=[Emotion(class_name='neutral', class_id=0, score=0.17114071547985077), Emotion(class_name='happy', class_id=1, score=0.6324177980422974), Emotion(class_name='sad', class_id=2, score=0.01866072043776512), Emotion(class_name='surprise', class_id=3, score=0.02669777348637581), Emotion(class_name='fear', class_id=4, score=0.02165364846587181), Emotion(class_name='disgust', class_id=5, score=0.06612619012594223), Emotion(class_name='anger', class_id=6, score=0.063303142786026)]),\n",
      " ClassificationData(emotions=[Emotion(class_name='neutral', class_id=0, score=0.645912230014801), Emotion(class_name='happy', class_id=1, score=0.033869434148073196), Emotion(class_name='sad', class_id=2, score=0.14584699273109436), Emotion(class_name='surprise', class_id=3, score=0.014402570202946663), Emotion(class_name='fear', class_id=4, score=0.021776987239718437), Emotion(class_name='disgust', class_id=5, score=0.023339105769991875), Emotion(class_name='anger', class_id=6, score=0.11485259979963303)]),\n",
      " ClassificationData(emotions=[Emotion(class_name='neutral', class_id=0, score=0.010835100896656513), Emotion(class_name='happy', class_id=1, score=0.9141384363174438), Emotion(class_name='sad', class_id=2, score=0.013283896259963512), Emotion(class_name='surprise', class_id=3, score=0.011161679401993752), Emotion(class_name='fear', class_id=4, score=0.012103739194571972), Emotion(class_name='disgust', class_id=5, score=0.02152162604033947), Emotion(class_name='anger', class_id=6, score=0.016955504193902016)]),\n",
      " ClassificationData(emotions=[Emotion(class_name='neutral', class_id=0, score=0.6435682773590088), Emotion(class_name='happy', class_id=1, score=0.06549279391765594), Emotion(class_name='sad', class_id=2, score=0.07869873195886612), Emotion(class_name='surprise', class_id=3, score=0.10853039473295212), Emotion(class_name='fear', class_id=4, score=0.06791476160287857), Emotion(class_name='disgust', class_id=5, score=0.011364264413714409), Emotion(class_name='anger', class_id=6, score=0.024430716410279274)]),\n",
      " ClassificationData(emotions=[Emotion(class_name='neutral', class_id=0, score=0.6965268850326538), Emotion(class_name='happy', class_id=1, score=0.02872896008193493), Emotion(class_name='sad', class_id=2, score=0.1081288605928421), Emotion(class_name='surprise', class_id=3, score=0.055893734097480774), Emotion(class_name='fear', class_id=4, score=0.030159180983901024), Emotion(class_name='disgust', class_id=5, score=0.023084089159965515), Emotion(class_name='anger', class_id=6, score=0.05747828260064125)])]\n",
      "[ClassificationData(emotions=[Emotion(class_name='neutral', class_id=0, score=0.18972373008728027), Emotion(class_name='happy', class_id=1, score=0.587378740310669), Emotion(class_name='sad', class_id=2, score=0.018528496846556664), Emotion(class_name='surprise', class_id=3, score=0.02806861512362957), Emotion(class_name='fear', class_id=4, score=0.024490999057888985), Emotion(class_name='disgust', class_id=5, score=0.08088990300893784), Emotion(class_name='anger', class_id=6, score=0.07091953605413437)]),\n",
      " ClassificationData(emotions=[Emotion(class_name='neutral', class_id=0, score=0.6538192629814148), Emotion(class_name='happy', class_id=1, score=0.03416477516293526), Emotion(class_name='sad', class_id=2, score=0.13934707641601562), Emotion(class_name='surprise', class_id=3, score=0.014750929549336433), Emotion(class_name='fear', class_id=4, score=0.022045331075787544), Emotion(class_name='disgust', class_id=5, score=0.023669375106692314), Emotion(class_name='anger', class_id=6, score=0.11220329999923706)]),\n",
      " ClassificationData(emotions=[Emotion(class_name='neutral', class_id=0, score=0.010941159911453724), Emotion(class_name='happy', class_id=1, score=0.9111435413360596), Emotion(class_name='sad', class_id=2, score=0.013650596141815186), Emotion(class_name='surprise', class_id=3, score=0.011746442876756191), Emotion(class_name='fear', class_id=4, score=0.012704542838037014), Emotion(class_name='disgust', class_id=5, score=0.022587064653635025), Emotion(class_name='anger', class_id=6, score=0.0172265712171793)]),\n",
      " ClassificationData(emotions=[Emotion(class_name='neutral', class_id=0, score=0.6697587966918945), Emotion(class_name='happy', class_id=1, score=0.025093790143728256), Emotion(class_name='sad', class_id=2, score=0.12463367730379105), Emotion(class_name='surprise', class_id=3, score=0.06440216302871704), Emotion(class_name='fear', class_id=4, score=0.0312713086605072), Emotion(class_name='disgust', class_id=5, score=0.02509303204715252), Emotion(class_name='anger', class_id=6, score=0.05974719673395157)]),\n",
      " ClassificationData(emotions=[Emotion(class_name='neutral', class_id=0, score=0.6421021223068237), Emotion(class_name='happy', class_id=1, score=0.06637691706418991), Emotion(class_name='sad', class_id=2, score=0.06608570367097855), Emotion(class_name='surprise', class_id=3, score=0.11145700514316559), Emotion(class_name='fear', class_id=4, score=0.07781647145748138), Emotion(class_name='disgust', class_id=5, score=0.008949002251029015), Emotion(class_name='anger', class_id=6, score=0.027212806046009064)])]\n"
     ]
    },
    {
     "name": "stderr",
     "output_type": "stream",
     "text": [
      "  1%|█▍                                                                                                                           | 6/511 [00:02<01:51,  4.51it/s]"
     ]
    },
    {
     "name": "stdout",
     "output_type": "stream",
     "text": [
      "[ClassificationData(emotions=[Emotion(class_name='neutral', class_id=0, score=0.19105330109596252), Emotion(class_name='happy', class_id=1, score=0.5997689962387085), Emotion(class_name='sad', class_id=2, score=0.017778119072318077), Emotion(class_name='surprise', class_id=3, score=0.027127232402563095), Emotion(class_name='fear', class_id=4, score=0.02354217693209648), Emotion(class_name='disgust', class_id=5, score=0.07691415399312973), Emotion(class_name='anger', class_id=6, score=0.06381605565547943)]),\n",
      " ClassificationData(emotions=[Emotion(class_name='neutral', class_id=0, score=0.6742845177650452), Emotion(class_name='happy', class_id=1, score=0.03388086333870888), Emotion(class_name='sad', class_id=2, score=0.12927106022834778), Emotion(class_name='surprise', class_id=3, score=0.014838002622127533), Emotion(class_name='fear', class_id=4, score=0.02077682875096798), Emotion(class_name='disgust', class_id=5, score=0.023691326379776), Emotion(class_name='anger', class_id=6, score=0.1032574400305748)]),\n",
      " ClassificationData(emotions=[Emotion(class_name='neutral', class_id=0, score=0.011125603690743446), Emotion(class_name='happy', class_id=1, score=0.9103387594223022), Emotion(class_name='sad', class_id=2, score=0.013352259062230587), Emotion(class_name='surprise', class_id=3, score=0.012494927272200584), Emotion(class_name='fear', class_id=4, score=0.012666572816669941), Emotion(class_name='disgust', class_id=5, score=0.02293098345398903), Emotion(class_name='anger', class_id=6, score=0.017090801149606705)]),\n",
      " ClassificationData(emotions=[Emotion(class_name='neutral', class_id=0, score=0.7070976495742798), Emotion(class_name='happy', class_id=1, score=0.027179868891835213), Emotion(class_name='sad', class_id=2, score=0.10667084902524948), Emotion(class_name='surprise', class_id=3, score=0.04555938020348549), Emotion(class_name='fear', class_id=4, score=0.030538417398929596), Emotion(class_name='disgust', class_id=5, score=0.027275241911411285), Emotion(class_name='anger', class_id=6, score=0.055678557604551315)]),\n",
      " ClassificationData(emotions=[Emotion(class_name='neutral', class_id=0, score=0.6595835089683533), Emotion(class_name='happy', class_id=1, score=0.05789868161082268), Emotion(class_name='sad', class_id=2, score=0.07635291665792465), Emotion(class_name='surprise', class_id=3, score=0.10723455250263214), Emotion(class_name='fear', class_id=4, score=0.06434964388608932), Emotion(class_name='disgust', class_id=5, score=0.0078741991892457), Emotion(class_name='anger', class_id=6, score=0.026706522330641747)])]\n",
      "[ClassificationData(emotions=[Emotion(class_name='neutral', class_id=0, score=0.17882336676120758), Emotion(class_name='happy', class_id=1, score=0.5890805125236511), Emotion(class_name='sad', class_id=2, score=0.018912633880972862), Emotion(class_name='surprise', class_id=3, score=0.028568144887685776), Emotion(class_name='fear', class_id=4, score=0.023051124066114426), Emotion(class_name='disgust', class_id=5, score=0.09459541738033295), Emotion(class_name='anger', class_id=6, score=0.06696885079145432)]),\n",
      " ClassificationData(emotions=[Emotion(class_name='neutral', class_id=0, score=0.707471489906311), Emotion(class_name='happy', class_id=1, score=0.03153322637081146), Emotion(class_name='sad', class_id=2, score=0.10984618961811066), Emotion(class_name='surprise', class_id=3, score=0.013341808691620827), Emotion(class_name='fear', class_id=4, score=0.023390790447592735), Emotion(class_name='disgust', class_id=5, score=0.02180863916873932), Emotion(class_name='anger', class_id=6, score=0.09260783344507217)]),\n",
      " ClassificationData(emotions=[Emotion(class_name='neutral', class_id=0, score=0.010723370127379894), Emotion(class_name='happy', class_id=1, score=0.9095765352249146), Emotion(class_name='sad', class_id=2, score=0.013927366584539413), Emotion(class_name='surprise', class_id=3, score=0.012136271223425865), Emotion(class_name='fear', class_id=4, score=0.01312943547964096), Emotion(class_name='disgust', class_id=5, score=0.02301119826734066), Emotion(class_name='anger', class_id=6, score=0.01749574951827526)]),\n",
      " ClassificationData(emotions=[Emotion(class_name='neutral', class_id=0, score=0.6864086985588074), Emotion(class_name='happy', class_id=1, score=0.025648681446909904), Emotion(class_name='sad', class_id=2, score=0.11066540330648422), Emotion(class_name='surprise', class_id=3, score=0.05718023702502251), Emotion(class_name='fear', class_id=4, score=0.035088762640953064), Emotion(class_name='disgust', class_id=5, score=0.030828803777694702), Emotion(class_name='anger', class_id=6, score=0.054179441183805466)]),\n",
      " ClassificationData(emotions=[Emotion(class_name='neutral', class_id=0, score=0.5969805121421814), Emotion(class_name='happy', class_id=1, score=0.057742346078157425), Emotion(class_name='sad', class_id=2, score=0.1066320538520813), Emotion(class_name='surprise', class_id=3, score=0.10859078913927078), Emotion(class_name='fear', class_id=4, score=0.09478649497032166), Emotion(class_name='disgust', class_id=5, score=0.00857017282396555), Emotion(class_name='anger', class_id=6, score=0.02669760398566723)])]\n"
     ]
    },
    {
     "name": "stderr",
     "output_type": "stream",
     "text": [
      "  2%|█▉                                                                                                                           | 8/511 [00:02<01:31,  5.51it/s]"
     ]
    },
    {
     "name": "stdout",
     "output_type": "stream",
     "text": [
      "[ClassificationData(emotions=[Emotion(class_name='neutral', class_id=0, score=0.222395658493042), Emotion(class_name='happy', class_id=1, score=0.5043298006057739), Emotion(class_name='sad', class_id=2, score=0.017970461398363113), Emotion(class_name='surprise', class_id=3, score=0.028581127524375916), Emotion(class_name='fear', class_id=4, score=0.02564190700650215), Emotion(class_name='disgust', class_id=5, score=0.11581366509199142), Emotion(class_name='anger', class_id=6, score=0.08526737987995148)]),\n",
      " ClassificationData(emotions=[Emotion(class_name='neutral', class_id=0, score=0.7004857659339905), Emotion(class_name='happy', class_id=1, score=0.03151073306798935), Emotion(class_name='sad', class_id=2, score=0.12039100378751755), Emotion(class_name='surprise', class_id=3, score=0.01419693510979414), Emotion(class_name='fear', class_id=4, score=0.022074034437537193), Emotion(class_name='disgust', class_id=5, score=0.02284560352563858), Emotion(class_name='anger', class_id=6, score=0.08849585801362991)]),\n",
      " ClassificationData(emotions=[Emotion(class_name='neutral', class_id=0, score=0.010876720771193504), Emotion(class_name='happy', class_id=1, score=0.9084708094596863), Emotion(class_name='sad', class_id=2, score=0.013984891586005688), Emotion(class_name='surprise', class_id=3, score=0.012655417434871197), Emotion(class_name='fear', class_id=4, score=0.013521608896553516), Emotion(class_name='disgust', class_id=5, score=0.022326452657580376), Emotion(class_name='anger', class_id=6, score=0.018164070323109627)]),\n",
      " ClassificationData(emotions=[Emotion(class_name='neutral', class_id=0, score=0.6742965579032898), Emotion(class_name='happy', class_id=1, score=0.027383428066968918), Emotion(class_name='sad', class_id=2, score=0.1377105712890625), Emotion(class_name='surprise', class_id=3, score=0.05131334438920021), Emotion(class_name='fear', class_id=4, score=0.03338785842061043), Emotion(class_name='disgust', class_id=5, score=0.03305201977491379), Emotion(class_name='anger', class_id=6, score=0.042856257408857346)]),\n",
      " ClassificationData(emotions=[Emotion(class_name='neutral', class_id=0, score=0.5682386159896851), Emotion(class_name='happy', class_id=1, score=0.05344344675540924), Emotion(class_name='sad', class_id=2, score=0.11131516098976135), Emotion(class_name='surprise', class_id=3, score=0.12497950345277786), Emotion(class_name='fear', class_id=4, score=0.11059139668941498), Emotion(class_name='disgust', class_id=5, score=0.007759245112538338), Emotion(class_name='anger', class_id=6, score=0.023672666400671005)])]\n",
      "[ClassificationData(emotions=[Emotion(class_name='neutral', class_id=0, score=0.23852363228797913), Emotion(class_name='happy', class_id=1, score=0.5497891902923584), Emotion(class_name='sad', class_id=2, score=0.01861218549311161), Emotion(class_name='surprise', class_id=3, score=0.02553253248333931), Emotion(class_name='fear', class_id=4, score=0.024598106741905212), Emotion(class_name='disgust', class_id=5, score=0.06150176376104355), Emotion(class_name='anger', class_id=6, score=0.08144255727529526)]),\n",
      " ClassificationData(emotions=[Emotion(class_name='neutral', class_id=0, score=0.6606308221817017), Emotion(class_name='happy', class_id=1, score=0.032643698155879974), Emotion(class_name='sad', class_id=2, score=0.13148164749145508), Emotion(class_name='surprise', class_id=3, score=0.013970202766358852), Emotion(class_name='fear', class_id=4, score=0.02506198361515999), Emotion(class_name='disgust', class_id=5, score=0.025808723643422127), Emotion(class_name='anger', class_id=6, score=0.11040299385786057)]),\n",
      " ClassificationData(emotions=[Emotion(class_name='neutral', class_id=0, score=0.01073163840919733), Emotion(class_name='happy', class_id=1, score=0.9114813208580017), Emotion(class_name='sad', class_id=2, score=0.013335044495761395), Emotion(class_name='surprise', class_id=3, score=0.012952364981174469), Emotion(class_name='fear', class_id=4, score=0.013025660067796707), Emotion(class_name='disgust', class_id=5, score=0.021243039518594742), Emotion(class_name='anger', class_id=6, score=0.01723100244998932)]),\n",
      " ClassificationData(emotions=[Emotion(class_name='neutral', class_id=0, score=0.679182767868042), Emotion(class_name='happy', class_id=1, score=0.02804933302104473), Emotion(class_name='sad', class_id=2, score=0.13438789546489716), Emotion(class_name='surprise', class_id=3, score=0.04719442129135132), Emotion(class_name='fear', class_id=4, score=0.034245118498802185), Emotion(class_name='disgust', class_id=5, score=0.030444085597991943), Emotion(class_name='anger', class_id=6, score=0.04649631679058075)]),\n",
      " ClassificationData(emotions=[Emotion(class_name='neutral', class_id=0, score=0.5980516076087952), Emotion(class_name='happy', class_id=1, score=0.05208819732069969), Emotion(class_name='sad', class_id=2, score=0.11135121434926987), Emotion(class_name='surprise', class_id=3, score=0.1071195974946022), Emotion(class_name='fear', class_id=4, score=0.09956113994121552), Emotion(class_name='disgust', class_id=5, score=0.007891722023487091), Emotion(class_name='anger', class_id=6, score=0.023936521261930466)])]\n"
     ]
    },
    {
     "name": "stderr",
     "output_type": "stream",
     "text": [
      "  2%|██▍                                                                                                                         | 10/511 [00:02<01:21,  6.14it/s]"
     ]
    },
    {
     "name": "stdout",
     "output_type": "stream",
     "text": [
      "[ClassificationData(emotions=[Emotion(class_name='neutral', class_id=0, score=0.27267926931381226), Emotion(class_name='happy', class_id=1, score=0.5123107433319092), Emotion(class_name='sad', class_id=2, score=0.018889402970671654), Emotion(class_name='surprise', class_id=3, score=0.02558111399412155), Emotion(class_name='fear', class_id=4, score=0.023819373920559883), Emotion(class_name='disgust', class_id=5, score=0.06107887625694275), Emotion(class_name='anger', class_id=6, score=0.08564118295907974)]),\n",
      " ClassificationData(emotions=[Emotion(class_name='neutral', class_id=0, score=0.6962981820106506), Emotion(class_name='happy', class_id=1, score=0.03217044472694397), Emotion(class_name='sad', class_id=2, score=0.1192338690161705), Emotion(class_name='surprise', class_id=3, score=0.014171737246215343), Emotion(class_name='fear', class_id=4, score=0.022952836006879807), Emotion(class_name='disgust', class_id=5, score=0.024431057274341583), Emotion(class_name='anger', class_id=6, score=0.09074188023805618)]),\n",
      " ClassificationData(emotions=[Emotion(class_name='neutral', class_id=0, score=0.011136174201965332), Emotion(class_name='happy', class_id=1, score=0.9116312861442566), Emotion(class_name='sad', class_id=2, score=0.013026374392211437), Emotion(class_name='surprise', class_id=3, score=0.013445926830172539), Emotion(class_name='fear', class_id=4, score=0.013314750045537949), Emotion(class_name='disgust', class_id=5, score=0.019767899066209793), Emotion(class_name='anger', class_id=6, score=0.01767764985561371)]),\n",
      " ClassificationData(emotions=[Emotion(class_name='neutral', class_id=0, score=0.6978737115859985), Emotion(class_name='happy', class_id=1, score=0.0270509272813797), Emotion(class_name='sad', class_id=2, score=0.10380981117486954), Emotion(class_name='surprise', class_id=3, score=0.05239534005522728), Emotion(class_name='fear', class_id=4, score=0.033572494983673096), Emotion(class_name='disgust', class_id=5, score=0.029574677348136902), Emotion(class_name='anger', class_id=6, score=0.055723078548908234)]),\n",
      " ClassificationData(emotions=[Emotion(class_name='neutral', class_id=0, score=0.5721524357795715), Emotion(class_name='happy', class_id=1, score=0.05384460836648941), Emotion(class_name='sad', class_id=2, score=0.12460159510374069), Emotion(class_name='surprise', class_id=3, score=0.10621410608291626), Emotion(class_name='fear', class_id=4, score=0.1000172346830368), Emotion(class_name='disgust', class_id=5, score=0.011278890073299408), Emotion(class_name='anger', class_id=6, score=0.031891100108623505)])]\n",
      "[ClassificationData(emotions=[Emotion(class_name='neutral', class_id=0, score=0.2348603904247284), Emotion(class_name='happy', class_id=1, score=0.5497613549232483), Emotion(class_name='sad', class_id=2, score=0.020584184676408768), Emotion(class_name='surprise', class_id=3, score=0.02770359069108963), Emotion(class_name='fear', class_id=4, score=0.025011001154780388), Emotion(class_name='disgust', class_id=5, score=0.06259558349847794), Emotion(class_name='anger', class_id=6, score=0.07948393374681473)]),\n",
      " ClassificationData(emotions=[Emotion(class_name='neutral', class_id=0, score=0.6746621131896973), Emotion(class_name='happy', class_id=1, score=0.035410020500421524), Emotion(class_name='sad', class_id=2, score=0.12041870504617691), Emotion(class_name='surprise', class_id=3, score=0.013930408284068108), Emotion(class_name='fear', class_id=4, score=0.024077335372567177), Emotion(class_name='disgust', class_id=5, score=0.022238608449697495), Emotion(class_name='anger', class_id=6, score=0.10926271229982376)]),\n",
      " ClassificationData(emotions=[Emotion(class_name='neutral', class_id=0, score=0.010557995177805424), Emotion(class_name='happy', class_id=1, score=0.9096754193305969), Emotion(class_name='sad', class_id=2, score=0.0137775968760252), Emotion(class_name='surprise', class_id=3, score=0.01289268396794796), Emotion(class_name='fear', class_id=4, score=0.013574005104601383), Emotion(class_name='disgust', class_id=5, score=0.021941382437944412), Emotion(class_name='anger', class_id=6, score=0.017580987885594368)]),\n",
      " ClassificationData(emotions=[Emotion(class_name='neutral', class_id=0, score=0.6707938313484192), Emotion(class_name='happy', class_id=1, score=0.029177583754062653), Emotion(class_name='sad', class_id=2, score=0.1290738880634308), Emotion(class_name='surprise', class_id=3, score=0.03176432475447655), Emotion(class_name='fear', class_id=4, score=0.03219330683350563), Emotion(class_name='disgust', class_id=5, score=0.029785290360450745), Emotion(class_name='anger', class_id=6, score=0.07721186429262161)]),\n",
      " ClassificationData(emotions=[Emotion(class_name='neutral', class_id=0, score=0.6354793310165405), Emotion(class_name='happy', class_id=1, score=0.05147632956504822), Emotion(class_name='sad', class_id=2, score=0.09011950343847275), Emotion(class_name='surprise', class_id=3, score=0.10547389090061188), Emotion(class_name='fear', class_id=4, score=0.08511845767498016), Emotion(class_name='disgust', class_id=5, score=0.008417677134275436), Emotion(class_name='anger', class_id=6, score=0.023914847522974014)])]\n"
     ]
    },
    {
     "name": "stderr",
     "output_type": "stream",
     "text": [
      "  2%|██▉                                                                                                                         | 12/511 [00:03<01:16,  6.52it/s]"
     ]
    },
    {
     "name": "stdout",
     "output_type": "stream",
     "text": [
      "[ClassificationData(emotions=[Emotion(class_name='neutral', class_id=0, score=0.25443461537361145), Emotion(class_name='happy', class_id=1, score=0.5378365516662598), Emotion(class_name='sad', class_id=2, score=0.018061550334095955), Emotion(class_name='surprise', class_id=3, score=0.021764583885669708), Emotion(class_name='fear', class_id=4, score=0.02804485522210598), Emotion(class_name='disgust', class_id=5, score=0.06166798248887062), Emotion(class_name='anger', class_id=6, score=0.0781899020075798)]),\n",
      " ClassificationData(emotions=[Emotion(class_name='neutral', class_id=0, score=0.6773639917373657), Emotion(class_name='happy', class_id=1, score=0.03297306224703789), Emotion(class_name='sad', class_id=2, score=0.1389658898115158), Emotion(class_name='surprise', class_id=3, score=0.014070762321352959), Emotion(class_name='fear', class_id=4, score=0.025578966364264488), Emotion(class_name='disgust', class_id=5, score=0.02393653243780136), Emotion(class_name='anger', class_id=6, score=0.08711077272891998)]),\n",
      " ClassificationData(emotions=[Emotion(class_name='neutral', class_id=0, score=0.010746435262262821), Emotion(class_name='happy', class_id=1, score=0.9113077521324158), Emotion(class_name='sad', class_id=2, score=0.013254094868898392), Emotion(class_name='surprise', class_id=3, score=0.013347906060516834), Emotion(class_name='fear', class_id=4, score=0.013707592152059078), Emotion(class_name='disgust', class_id=5, score=0.02015412412583828), Emotion(class_name='anger', class_id=6, score=0.01748211309313774)]),\n",
      " ClassificationData(emotions=[Emotion(class_name='neutral', class_id=0, score=0.6585631370544434), Emotion(class_name='happy', class_id=1, score=0.029277551919221878), Emotion(class_name='sad', class_id=2, score=0.12389672547578812), Emotion(class_name='surprise', class_id=3, score=0.035325683653354645), Emotion(class_name='fear', class_id=4, score=0.03194005414843559), Emotion(class_name='disgust', class_id=5, score=0.03026089258491993), Emotion(class_name='anger', class_id=6, score=0.09073596447706223)]),\n",
      " ClassificationData(emotions=[Emotion(class_name='neutral', class_id=0, score=0.6139932870864868), Emotion(class_name='happy', class_id=1, score=0.05335739627480507), Emotion(class_name='sad', class_id=2, score=0.10856475681066513), Emotion(class_name='surprise', class_id=3, score=0.0958024263381958), Emotion(class_name='fear', class_id=4, score=0.0922800675034523), Emotion(class_name='disgust', class_id=5, score=0.00942627340555191), Emotion(class_name='anger', class_id=6, score=0.02657582424581051)])]\n",
      "[ClassificationData(emotions=[Emotion(class_name='neutral', class_id=0, score=0.22867849469184875), Emotion(class_name='happy', class_id=1, score=0.5719908475875854), Emotion(class_name='sad', class_id=2, score=0.01700916886329651), Emotion(class_name='surprise', class_id=3, score=0.028252094984054565), Emotion(class_name='fear', class_id=4, score=0.02094498835504055), Emotion(class_name='disgust', class_id=5, score=0.049157675355672836), Emotion(class_name='anger', class_id=6, score=0.08396682143211365)]),\n",
      " ClassificationData(emotions=[Emotion(class_name='neutral', class_id=0, score=0.6881534457206726), Emotion(class_name='happy', class_id=1, score=0.03331569582223892), Emotion(class_name='sad', class_id=2, score=0.1331794708967209), Emotion(class_name='surprise', class_id=3, score=0.01417357288300991), Emotion(class_name='fear', class_id=4, score=0.022033656015992165), Emotion(class_name='disgust', class_id=5, score=0.02393798716366291), Emotion(class_name='anger', class_id=6, score=0.08520612865686417)]),\n",
      " ClassificationData(emotions=[Emotion(class_name='neutral', class_id=0, score=0.010397780686616898), Emotion(class_name='happy', class_id=1, score=0.9115761518478394), Emotion(class_name='sad', class_id=2, score=0.013597795739769936), Emotion(class_name='surprise', class_id=3, score=0.012840745970606804), Emotion(class_name='fear', class_id=4, score=0.013523099012672901), Emotion(class_name='disgust', class_id=5, score=0.02093321457505226), Emotion(class_name='anger', class_id=6, score=0.01713120937347412)]),\n",
      " ClassificationData(emotions=[Emotion(class_name='neutral', class_id=0, score=0.6269004940986633), Emotion(class_name='happy', class_id=1, score=0.031104497611522675), Emotion(class_name='sad', class_id=2, score=0.16298343241214752), Emotion(class_name='surprise', class_id=3, score=0.03995335474610329), Emotion(class_name='fear', class_id=4, score=0.034395333379507065), Emotion(class_name='disgust', class_id=5, score=0.029280509799718857), Emotion(class_name='anger', class_id=6, score=0.07538235187530518)]),\n",
      " ClassificationData(emotions=[Emotion(class_name='neutral', class_id=0, score=0.6125532984733582), Emotion(class_name='happy', class_id=1, score=0.05531622841954231), Emotion(class_name='sad', class_id=2, score=0.1095946878194809), Emotion(class_name='surprise', class_id=3, score=0.11096847057342529), Emotion(class_name='fear', class_id=4, score=0.07736427336931229), Emotion(class_name='disgust', class_id=5, score=0.010325993411242962), Emotion(class_name='anger', class_id=6, score=0.02387705072760582)])]\n"
     ]
    },
    {
     "name": "stderr",
     "output_type": "stream",
     "text": [
      "  3%|███▍                                                                                                                        | 14/511 [00:03<01:14,  6.67it/s]"
     ]
    },
    {
     "name": "stdout",
     "output_type": "stream",
     "text": [
      "[ClassificationData(emotions=[Emotion(class_name='neutral', class_id=0, score=0.19499234855175018), Emotion(class_name='happy', class_id=1, score=0.5877602100372314), Emotion(class_name='sad', class_id=2, score=0.01541325356811285), Emotion(class_name='surprise', class_id=3, score=0.02781381458044052), Emotion(class_name='fear', class_id=4, score=0.02329125441610813), Emotion(class_name='disgust', class_id=5, score=0.07780728489160538), Emotion(class_name='anger', class_id=6, score=0.07292187958955765)]),\n",
      " ClassificationData(emotions=[Emotion(class_name='neutral', class_id=0, score=0.010620147921144962), Emotion(class_name='happy', class_id=1, score=0.9091165065765381), Emotion(class_name='sad', class_id=2, score=0.01362018845975399), Emotion(class_name='surprise', class_id=3, score=0.012867879122495651), Emotion(class_name='fear', class_id=4, score=0.0132249491289258), Emotion(class_name='disgust', class_id=5, score=0.022554203867912292), Emotion(class_name='anger', class_id=6, score=0.017996087670326233)]),\n",
      " ClassificationData(emotions=[Emotion(class_name='neutral', class_id=0, score=0.6161167025566101), Emotion(class_name='happy', class_id=1, score=0.03351433947682381), Emotion(class_name='sad', class_id=2, score=0.25129860639572144), Emotion(class_name='surprise', class_id=3, score=0.014201338402926922), Emotion(class_name='fear', class_id=4, score=0.020460112020373344), Emotion(class_name='disgust', class_id=5, score=0.02413594350218773), Emotion(class_name='anger', class_id=6, score=0.04027300700545311)]),\n",
      " ClassificationData(emotions=[Emotion(class_name='neutral', class_id=0, score=0.6095979809761047), Emotion(class_name='happy', class_id=1, score=0.032564882189035416), Emotion(class_name='sad', class_id=2, score=0.1762949824333191), Emotion(class_name='surprise', class_id=3, score=0.02529269829392433), Emotion(class_name='fear', class_id=4, score=0.02840573340654373), Emotion(class_name='disgust', class_id=5, score=0.030761823058128357), Emotion(class_name='anger', class_id=6, score=0.09708187729120255)]),\n",
      " ClassificationData(emotions=[Emotion(class_name='neutral', class_id=0, score=0.5507015585899353), Emotion(class_name='happy', class_id=1, score=0.055403053760528564), Emotion(class_name='sad', class_id=2, score=0.14833955466747284), Emotion(class_name='surprise', class_id=3, score=0.10050064325332642), Emotion(class_name='fear', class_id=4, score=0.10546235740184784), Emotion(class_name='disgust', class_id=5, score=0.011441972106695175), Emotion(class_name='anger', class_id=6, score=0.02815084531903267)])]\n",
      "[ClassificationData(emotions=[Emotion(class_name='neutral', class_id=0, score=0.22624538838863373), Emotion(class_name='happy', class_id=1, score=0.5476282835006714), Emotion(class_name='sad', class_id=2, score=0.017138829454779625), Emotion(class_name='surprise', class_id=3, score=0.02722703479230404), Emotion(class_name='fear', class_id=4, score=0.02731715887784958), Emotion(class_name='disgust', class_id=5, score=0.07966520637273788), Emotion(class_name='anger', class_id=6, score=0.07477807998657227)]),\n",
      " ClassificationData(emotions=[Emotion(class_name='neutral', class_id=0, score=0.010441538877785206), Emotion(class_name='happy', class_id=1, score=0.9072315692901611), Emotion(class_name='sad', class_id=2, score=0.013954858295619488), Emotion(class_name='surprise', class_id=3, score=0.012546364217996597), Emotion(class_name='fear', class_id=4, score=0.014018604531884193), Emotion(class_name='disgust', class_id=5, score=0.023953871801495552), Emotion(class_name='anger', class_id=6, score=0.017853129655122757)]),\n",
      " ClassificationData(emotions=[Emotion(class_name='neutral', class_id=0, score=0.5661134719848633), Emotion(class_name='happy', class_id=1, score=0.0347694456577301), Emotion(class_name='sad', class_id=2, score=0.28467026352882385), Emotion(class_name='surprise', class_id=3, score=0.01299748383462429), Emotion(class_name='fear', class_id=4, score=0.023267582058906555), Emotion(class_name='disgust', class_id=5, score=0.025774739682674408), Emotion(class_name='anger', class_id=6, score=0.052407048642635345)]),\n",
      " ClassificationData(emotions=[Emotion(class_name='neutral', class_id=0, score=0.5777276158332825), Emotion(class_name='happy', class_id=1, score=0.029589779675006866), Emotion(class_name='sad', class_id=2, score=0.17945055663585663), Emotion(class_name='surprise', class_id=3, score=0.031196502968668938), Emotion(class_name='fear', class_id=4, score=0.03202928975224495), Emotion(class_name='disgust', class_id=5, score=0.03559460490942001), Emotion(class_name='anger', class_id=6, score=0.11441166698932648)]),\n",
      " ClassificationData(emotions=[Emotion(class_name='neutral', class_id=0, score=0.5765026211738586), Emotion(class_name='happy', class_id=1, score=0.054890427738428116), Emotion(class_name='sad', class_id=2, score=0.1025572419166565), Emotion(class_name='surprise', class_id=3, score=0.1285124272108078), Emotion(class_name='fear', class_id=4, score=0.10187552124261856), Emotion(class_name='disgust', class_id=5, score=0.010453050024807453), Emotion(class_name='anger', class_id=6, score=0.025208668783307076)])]\n"
     ]
    },
    {
     "name": "stderr",
     "output_type": "stream",
     "text": [
      "  3%|███▋                                                                                                                        | 15/511 [00:03<01:57,  4.22it/s]\n"
     ]
    },
    {
     "name": "stdout",
     "output_type": "stream",
     "text": [
      "[ClassificationData(emotions=[Emotion(class_name='neutral', class_id=0, score=0.2155073583126068), Emotion(class_name='happy', class_id=1, score=0.5488914251327515), Emotion(class_name='sad', class_id=2, score=0.019527392461895943), Emotion(class_name='surprise', class_id=3, score=0.03193441033363342), Emotion(class_name='fear', class_id=4, score=0.024380642920732498), Emotion(class_name='disgust', class_id=5, score=0.08880370855331421), Emotion(class_name='anger', class_id=6, score=0.07095500081777573)]),\n",
      " ClassificationData(emotions=[Emotion(class_name='neutral', class_id=0, score=0.01056983508169651), Emotion(class_name='happy', class_id=1, score=0.9074322581291199), Emotion(class_name='sad', class_id=2, score=0.01393229141831398), Emotion(class_name='surprise', class_id=3, score=0.012799873016774654), Emotion(class_name='fear', class_id=4, score=0.013675572350621223), Emotion(class_name='disgust', class_id=5, score=0.023702768608927727), Emotion(class_name='anger', class_id=6, score=0.017887486144900322)]),\n",
      " ClassificationData(emotions=[Emotion(class_name='neutral', class_id=0, score=0.5674053430557251), Emotion(class_name='happy', class_id=1, score=0.03583664074540138), Emotion(class_name='sad', class_id=2, score=0.2853661775588989), Emotion(class_name='surprise', class_id=3, score=0.013195528648793697), Emotion(class_name='fear', class_id=4, score=0.02293219603598118), Emotion(class_name='disgust', class_id=5, score=0.02470356971025467), Emotion(class_name='anger', class_id=6, score=0.050560589879751205)]),\n",
      " ClassificationData(emotions=[Emotion(class_name='neutral', class_id=0, score=0.6098312139511108), Emotion(class_name='happy', class_id=1, score=0.03211354836821556), Emotion(class_name='sad', class_id=2, score=0.15995126962661743), Emotion(class_name='surprise', class_id=3, score=0.029543044045567513), Emotion(class_name='fear', class_id=4, score=0.03122042305767536), Emotion(class_name='disgust', class_id=5, score=0.040796805173158646), Emotion(class_name='anger', class_id=6, score=0.09654372930526733)]),\n",
      " ClassificationData(emotions=[Emotion(class_name='neutral', class_id=0, score=0.6364103555679321), Emotion(class_name='happy', class_id=1, score=0.05549951270222664), Emotion(class_name='sad', class_id=2, score=0.0957309678196907), Emotion(class_name='surprise', class_id=3, score=0.10199812054634094), Emotion(class_name='fear', class_id=4, score=0.07367826253175735), Emotion(class_name='disgust', class_id=5, score=0.009092453867197037), Emotion(class_name='anger', class_id=6, score=0.02759021520614624)])]\n"
     ]
    },
    {
     "ename": "KeyboardInterrupt",
     "evalue": "",
     "output_type": "error",
     "traceback": [
      "\u001b[0;31m---------------------------------------------------------------------------\u001b[0m",
      "\u001b[0;31mKeyboardInterrupt\u001b[0m                         Traceback (most recent call last)",
      "\u001b[0;32m/tmp/ipykernel_381/3914259752.py\u001b[0m in \u001b[0;36m<module>\u001b[0;34m\u001b[0m\n\u001b[1;32m     17\u001b[0m     \u001b[0mnew_frame\u001b[0m \u001b[0;34m=\u001b[0m \u001b[0mcv2\u001b[0m\u001b[0;34m.\u001b[0m\u001b[0mcvtColor\u001b[0m\u001b[0;34m(\u001b[0m\u001b[0mframe\u001b[0m\u001b[0;34m,\u001b[0m \u001b[0mcv2\u001b[0m\u001b[0;34m.\u001b[0m\u001b[0mCOLOR_BGR2RGB\u001b[0m\u001b[0;34m)\u001b[0m\u001b[0;34m\u001b[0m\u001b[0;34m\u001b[0m\u001b[0m\n\u001b[1;32m     18\u001b[0m \u001b[0;34m\u001b[0m\u001b[0m\n\u001b[0;32m---> 19\u001b[0;31m     \u001b[0mplotted_frame\u001b[0m \u001b[0;34m=\u001b[0m \u001b[0mservice\u001b[0m\u001b[0;34m.\u001b[0m\u001b[0mprocess_frame\u001b[0m\u001b[0;34m(\u001b[0m\u001b[0mnew_frame\u001b[0m\u001b[0;34m)\u001b[0m\u001b[0;34m\u001b[0m\u001b[0;34m\u001b[0m\u001b[0m\n\u001b[0m\u001b[1;32m     20\u001b[0m \u001b[0;34m\u001b[0m\u001b[0m\n\u001b[1;32m     21\u001b[0m     \u001b[0mwriter\u001b[0m\u001b[0;34m.\u001b[0m\u001b[0mwrite\u001b[0m\u001b[0;34m(\u001b[0m\u001b[0mcv2\u001b[0m\u001b[0;34m.\u001b[0m\u001b[0mcvtColor\u001b[0m\u001b[0;34m(\u001b[0m\u001b[0mplotted_frame\u001b[0m\u001b[0;34m,\u001b[0m \u001b[0mcv2\u001b[0m\u001b[0;34m.\u001b[0m\u001b[0mCOLOR_RGB2BGR\u001b[0m\u001b[0;34m)\u001b[0m\u001b[0;34m)\u001b[0m\u001b[0;34m\u001b[0m\u001b[0;34m\u001b[0m\u001b[0m\n",
      "\u001b[0;32m/cv_recognition_service/service/emotion_service.py\u001b[0m in \u001b[0;36mprocess_frame\u001b[0;34m(self, frame)\u001b[0m\n\u001b[1;32m     20\u001b[0m \u001b[0;34m\u001b[0m\u001b[0m\n\u001b[1;32m     21\u001b[0m     \u001b[0;32mdef\u001b[0m \u001b[0mprocess_frame\u001b[0m\u001b[0;34m(\u001b[0m\u001b[0mself\u001b[0m\u001b[0;34m,\u001b[0m \u001b[0mframe\u001b[0m\u001b[0;34m:\u001b[0m \u001b[0mnp\u001b[0m\u001b[0;34m.\u001b[0m\u001b[0mndarray\u001b[0m\u001b[0;34m)\u001b[0m \u001b[0;34m->\u001b[0m \u001b[0mFrameData\u001b[0m\u001b[0;34m:\u001b[0m\u001b[0;34m\u001b[0m\u001b[0;34m\u001b[0m\u001b[0m\n\u001b[0;32m---> 22\u001b[0;31m         \u001b[0mdetections_data\u001b[0m \u001b[0;34m=\u001b[0m \u001b[0mself\u001b[0m\u001b[0;34m.\u001b[0m\u001b[0mdetection_model\u001b[0m\u001b[0;34m.\u001b[0m\u001b[0mdetect\u001b[0m\u001b[0;34m(\u001b[0m\u001b[0mframe\u001b[0m\u001b[0;34m)\u001b[0m\u001b[0;34m\u001b[0m\u001b[0;34m\u001b[0m\u001b[0m\n\u001b[0m\u001b[1;32m     23\u001b[0m \u001b[0;34m\u001b[0m\u001b[0m\n\u001b[1;32m     24\u001b[0m         \u001b[0mcropped_images\u001b[0m \u001b[0;34m=\u001b[0m \u001b[0mself\u001b[0m\u001b[0;34m.\u001b[0m\u001b[0m_crop_images\u001b[0m\u001b[0;34m(\u001b[0m\u001b[0mframe\u001b[0m\u001b[0;34m,\u001b[0m \u001b[0mdetections_data\u001b[0m\u001b[0;34m)\u001b[0m\u001b[0;34m\u001b[0m\u001b[0;34m\u001b[0m\u001b[0m\n",
      "\u001b[0;32m/cv_recognition_service/infrastructure/detection.py\u001b[0m in \u001b[0;36mdetect\u001b[0;34m(self, image)\u001b[0m\n\u001b[1;32m     65\u001b[0m     \u001b[0;32mdef\u001b[0m \u001b[0mdetect\u001b[0m\u001b[0;34m(\u001b[0m\u001b[0mself\u001b[0m\u001b[0;34m,\u001b[0m \u001b[0mimage\u001b[0m\u001b[0;34m:\u001b[0m \u001b[0mnp\u001b[0m\u001b[0;34m.\u001b[0m\u001b[0mndarray\u001b[0m\u001b[0;34m)\u001b[0m \u001b[0;34m->\u001b[0m \u001b[0mList\u001b[0m\u001b[0;34m[\u001b[0m\u001b[0mDetectionData\u001b[0m\u001b[0;34m]\u001b[0m\u001b[0;34m:\u001b[0m\u001b[0;34m\u001b[0m\u001b[0;34m\u001b[0m\u001b[0m\n\u001b[1;32m     66\u001b[0m         \u001b[0;31m# preprocessed_image = self._image_preprocessing(image)\u001b[0m\u001b[0;34m\u001b[0m\u001b[0;34m\u001b[0m\u001b[0;34m\u001b[0m\u001b[0m\n\u001b[0;32m---> 67\u001b[0;31m         \u001b[0mraw_predictions\u001b[0m \u001b[0;34m=\u001b[0m \u001b[0mself\u001b[0m\u001b[0;34m.\u001b[0m\u001b[0m_face_detector\u001b[0m\u001b[0;34m.\u001b[0m\u001b[0mget_faces\u001b[0m\u001b[0;34m(\u001b[0m\u001b[0mimage\u001b[0m\u001b[0;34m)\u001b[0m\u001b[0;34m\u001b[0m\u001b[0;34m\u001b[0m\u001b[0m\n\u001b[0m\u001b[1;32m     68\u001b[0m         \u001b[0mpredictions\u001b[0m \u001b[0;34m=\u001b[0m \u001b[0mself\u001b[0m\u001b[0;34m.\u001b[0m\u001b[0m_raw_to_data\u001b[0m\u001b[0;34m(\u001b[0m\u001b[0mraw_predictions\u001b[0m\u001b[0;34m)\u001b[0m\u001b[0;34m\u001b[0m\u001b[0;34m\u001b[0m\u001b[0m\n\u001b[1;32m     69\u001b[0m         \u001b[0;32mreturn\u001b[0m \u001b[0mpredictions\u001b[0m\u001b[0;34m\u001b[0m\u001b[0;34m\u001b[0m\u001b[0m\n",
      "\u001b[0;32m/cv_recognition_service/infrastructure/retina_torch/retina_api.py\u001b[0m in \u001b[0;36mget_faces\u001b[0;34m(self, img)\u001b[0m\n\u001b[1;32m    145\u001b[0m \u001b[0;34m\u001b[0m\u001b[0m\n\u001b[1;32m    146\u001b[0m     \u001b[0;32mdef\u001b[0m \u001b[0mget_faces\u001b[0m\u001b[0;34m(\u001b[0m\u001b[0mself\u001b[0m\u001b[0;34m,\u001b[0m \u001b[0mimg\u001b[0m\u001b[0;34m)\u001b[0m\u001b[0;34m:\u001b[0m\u001b[0;34m\u001b[0m\u001b[0;34m\u001b[0m\u001b[0m\n\u001b[0;32m--> 147\u001b[0;31m         \u001b[0mdets\u001b[0m\u001b[0;34m,\u001b[0m \u001b[0mlandmarks\u001b[0m \u001b[0;34m=\u001b[0m \u001b[0mself\u001b[0m\u001b[0;34m.\u001b[0m\u001b[0mdetect\u001b[0m\u001b[0;34m(\u001b[0m\u001b[0mimg\u001b[0m\u001b[0;34m)\u001b[0m\u001b[0;34m\u001b[0m\u001b[0;34m\u001b[0m\u001b[0m\n\u001b[0m\u001b[1;32m    148\u001b[0m         coordinate_faces = list(\n\u001b[1;32m    149\u001b[0m             \u001b[0mmap\u001b[0m\u001b[0;34m(\u001b[0m\u001b[0;32mlambda\u001b[0m \u001b[0mx\u001b[0m\u001b[0;34m:\u001b[0m \u001b[0;34m[\u001b[0m\u001b[0mint\u001b[0m\u001b[0;34m(\u001b[0m\u001b[0mx\u001b[0m\u001b[0;34m[\u001b[0m\u001b[0;36m0\u001b[0m\u001b[0;34m]\u001b[0m\u001b[0;34m)\u001b[0m\u001b[0;34m,\u001b[0m \u001b[0mint\u001b[0m\u001b[0;34m(\u001b[0m\u001b[0mx\u001b[0m\u001b[0;34m[\u001b[0m\u001b[0;36m1\u001b[0m\u001b[0;34m]\u001b[0m\u001b[0;34m)\u001b[0m\u001b[0;34m,\u001b[0m \u001b[0mint\u001b[0m\u001b[0;34m(\u001b[0m\u001b[0mx\u001b[0m\u001b[0;34m[\u001b[0m\u001b[0;36m2\u001b[0m\u001b[0;34m]\u001b[0m\u001b[0;34m)\u001b[0m\u001b[0;34m,\u001b[0m \u001b[0mint\u001b[0m\u001b[0;34m(\u001b[0m\u001b[0mx\u001b[0m\u001b[0;34m[\u001b[0m\u001b[0;36m3\u001b[0m\u001b[0;34m]\u001b[0m\u001b[0;34m)\u001b[0m\u001b[0;34m,\u001b[0m \u001b[0mx\u001b[0m\u001b[0;34m[\u001b[0m\u001b[0;36m4\u001b[0m\u001b[0;34m]\u001b[0m\u001b[0;34m]\u001b[0m\u001b[0;34m,\u001b[0m \u001b[0mdets\u001b[0m\u001b[0;34m)\u001b[0m\u001b[0;34m\u001b[0m\u001b[0;34m\u001b[0m\u001b[0m\n",
      "\u001b[0;32m/cv_recognition_service/infrastructure/retina_torch/retina_api.py\u001b[0m in \u001b[0;36mdetect\u001b[0;34m(self, image)\u001b[0m\n\u001b[1;32m     82\u001b[0m             \u001b[0;34m[\u001b[0m\u001b[0mnp_img\u001b[0m\u001b[0;34m.\u001b[0m\u001b[0mshape\u001b[0m\u001b[0;34m[\u001b[0m\u001b[0;36m1\u001b[0m\u001b[0;34m]\u001b[0m\u001b[0;34m,\u001b[0m \u001b[0mnp_img\u001b[0m\u001b[0;34m.\u001b[0m\u001b[0mshape\u001b[0m\u001b[0;34m[\u001b[0m\u001b[0;36m0\u001b[0m\u001b[0;34m]\u001b[0m\u001b[0;34m,\u001b[0m \u001b[0mnp_img\u001b[0m\u001b[0;34m.\u001b[0m\u001b[0mshape\u001b[0m\u001b[0;34m[\u001b[0m\u001b[0;36m1\u001b[0m\u001b[0;34m]\u001b[0m\u001b[0;34m,\u001b[0m \u001b[0mnp_img\u001b[0m\u001b[0;34m.\u001b[0m\u001b[0mshape\u001b[0m\u001b[0;34m[\u001b[0m\u001b[0;36m0\u001b[0m\u001b[0;34m]\u001b[0m\u001b[0;34m]\u001b[0m\u001b[0;34m\u001b[0m\u001b[0;34m\u001b[0m\u001b[0m\n\u001b[1;32m     83\u001b[0m         )\n\u001b[0;32m---> 84\u001b[0;31m         \u001b[0mnp_img\u001b[0m \u001b[0;34m-=\u001b[0m \u001b[0;34m(\u001b[0m\u001b[0;36m104\u001b[0m\u001b[0;34m,\u001b[0m \u001b[0;36m117\u001b[0m\u001b[0;34m,\u001b[0m \u001b[0;36m123\u001b[0m\u001b[0;34m)\u001b[0m\u001b[0;34m\u001b[0m\u001b[0;34m\u001b[0m\u001b[0m\n\u001b[0m\u001b[1;32m     85\u001b[0m         \u001b[0mnp_img\u001b[0m \u001b[0;34m=\u001b[0m \u001b[0mnp_img\u001b[0m\u001b[0;34m.\u001b[0m\u001b[0mtranspose\u001b[0m\u001b[0;34m(\u001b[0m\u001b[0;36m2\u001b[0m\u001b[0;34m,\u001b[0m \u001b[0;36m0\u001b[0m\u001b[0;34m,\u001b[0m \u001b[0;36m1\u001b[0m\u001b[0;34m)\u001b[0m\u001b[0;34m\u001b[0m\u001b[0;34m\u001b[0m\u001b[0m\n\u001b[1;32m     86\u001b[0m         \u001b[0mnp_img\u001b[0m \u001b[0;34m=\u001b[0m \u001b[0mtorch\u001b[0m\u001b[0;34m.\u001b[0m\u001b[0mfrom_numpy\u001b[0m\u001b[0;34m(\u001b[0m\u001b[0mnp_img\u001b[0m\u001b[0;34m)\u001b[0m\u001b[0;34m.\u001b[0m\u001b[0munsqueeze\u001b[0m\u001b[0;34m(\u001b[0m\u001b[0;36m0\u001b[0m\u001b[0;34m)\u001b[0m\u001b[0;34m\u001b[0m\u001b[0;34m\u001b[0m\u001b[0m\n",
      "\u001b[0;31mKeyboardInterrupt\u001b[0m: "
     ]
    }
   ],
   "source": [
    "import os\n",
    "video_path = 'test.mp4'\n",
    "\n",
    "capture = cv2.VideoCapture(video_path)\n",
    "length = int(capture.get(cv2.CAP_PROP_FRAME_COUNT))\n",
    "width = int(capture.get(cv2.CAP_PROP_FRAME_WIDTH))\n",
    "height = int(capture.get(cv2.CAP_PROP_FRAME_HEIGHT))\n",
    "\n",
    "fps = 10\n",
    "fourcc = cv2.VideoWriter_fourcc(*'MJPG')\n",
    "writer = cv2.VideoWriter(f'output/{os.path.basename(video_path)}', fourcc, fps, (width, height))\n",
    "\n",
    "for _ in trange(length):\n",
    "    ret, frame = capture.read()\n",
    "    if frame is None:\n",
    "        break\n",
    "    new_frame = cv2.cvtColor(frame, cv2.COLOR_BGR2RGB)\n",
    "    \n",
    "    plotted_frame = service.process_frame(new_frame)\n",
    "    \n",
    "    writer.write(cv2.cvtColor(plotted_frame, cv2.COLOR_RGB2BGR))\n",
    "\n",
    "writer.release() \n",
    "    \n",
    "capture.release()"
   ]
  },
  {
   "cell_type": "code",
   "execution_count": null,
   "id": "53b3e7c8",
   "metadata": {},
   "outputs": [],
   "source": [
    "from retinaface import RetinaFace"
   ]
  },
  {
   "cell_type": "code",
   "execution_count": null,
   "id": "f0d2df41",
   "metadata": {},
   "outputs": [],
   "source": [
    "plot(frame)"
   ]
  },
  {
   "cell_type": "code",
   "execution_count": null,
   "id": "ee71e7e5",
   "metadata": {},
   "outputs": [],
   "source": [
    "model = RetinaFace()\n",
    "\n",
    "# faces = model.detect_faces(frame)\n",
    "\n",
    "faces = model.predict(frame)"
   ]
  },
  {
   "cell_type": "code",
   "execution_count": null,
   "id": "6cf84e9b",
   "metadata": {},
   "outputs": [],
   "source": [
    "faces"
   ]
  },
  {
   "cell_type": "code",
   "execution_count": null,
   "id": "785311ff",
   "metadata": {},
   "outputs": [],
   "source": [
    "for i, face in enumerate(faces.values()):\n",
    "    print(i, face)"
   ]
  },
  {
   "cell_type": "code",
   "execution_count": null,
   "id": "e238b256",
   "metadata": {},
   "outputs": [],
   "source": [
    "plot(faces[5])"
   ]
  },
  {
   "cell_type": "code",
   "execution_count": null,
   "id": "15369f31",
   "metadata": {},
   "outputs": [],
   "source": [
    "a = [1, 2, 4]\n",
    "\n",
    "c, b, d = a"
   ]
  },
  {
   "cell_type": "code",
   "execution_count": null,
   "id": "6f5154f1",
   "metadata": {},
   "outputs": [],
   "source": [
    "c"
   ]
  },
  {
   "cell_type": "markdown",
   "id": "7e632079",
   "metadata": {},
   "source": []
  }
 ],
 "metadata": {
  "kernelspec": {
   "display_name": "Python 3 (ipykernel)",
   "language": "python",
   "name": "python3"
  },
  "language_info": {
   "codemirror_mode": {
    "name": "ipython",
    "version": 3
   },
   "file_extension": ".py",
   "mimetype": "text/x-python",
   "name": "python",
   "nbconvert_exporter": "python",
   "pygments_lexer": "ipython3",
   "version": "3.8.12"
  }
 },
 "nbformat": 4,
 "nbformat_minor": 5
}
